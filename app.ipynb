{
  "nbformat": 4,
  "nbformat_minor": 0,
  "metadata": {
    "colab": {
      "name": "Copy of Company_name_",
      "provenance": [],
      "collapsed_sections": [],
      "authorship_tag": "ABX9TyMMKbi6OeazuMTFagmq4NVM",
      "include_colab_link": true
    },
    "kernelspec": {
      "name": "python3",
      "display_name": "Python 3"
    }
  },
  "cells": [
    {
      "cell_type": "markdown",
      "metadata": {
        "id": "view-in-github",
        "colab_type": "text"
      },
      "source": [
        "<a href=\"https://colab.research.google.com/github/Seifollahi/industry_by_company_name/blob/master/app.ipynb\" target=\"_parent\"><img src=\"https://colab.research.google.com/assets/colab-badge.svg\" alt=\"Open In Colab\"/></a>"
      ]
    },
    {
      "cell_type": "markdown",
      "metadata": {
        "id": "0qX-ICMFbnBq",
        "colab_type": "text"
      },
      "source": [
        "# Industry By Company Name\n",
        "\n",
        "This project is developing a machine learning model to predict the NAICS code based on the name of the company. So far it can predict the industry by 0.41 accuracy using the SGD algorithm."
      ]
    },
    {
      "cell_type": "code",
      "metadata": {
        "id": "K3umBfIK_Z-h",
        "colab_type": "code",
        "colab": {}
      },
      "source": [
        "import pandas as pd\n",
        "from sklearn.feature_extraction.text import CountVectorizer, TfidfTransformer\n",
        "from textblob import TextBlob\n",
        "from sklearn.model_selection import train_test_split\n",
        "from sklearn.pipeline import Pipeline\n",
        "from sklearn.metrics import accuracy_score"
      ],
      "execution_count": 0,
      "outputs": []
    },
    {
      "cell_type": "code",
      "metadata": {
        "id": "O-A4RlRlEIGW",
        "colab_type": "code",
        "colab": {}
      },
      "source": [
        "url = \"https://github.com/Seifollahi/industry_by_company_name/blob/master/data/training-testing/train-test.csv?raw=true\"\n",
        "\n",
        "df = pd.read_csv(url)"
      ],
      "execution_count": 0,
      "outputs": []
    },
    {
      "cell_type": "code",
      "metadata": {
        "id": "KYq5FysTEWgd",
        "colab_type": "code",
        "outputId": "3a4f837a-0904-4291-eef0-31dc47cde584",
        "colab": {
          "base_uri": "https://localhost:8080/",
          "height": 260
        }
      },
      "source": [
        "df.head"
      ],
      "execution_count": 0,
      "outputs": [
        {
          "output_type": "execute_result",
          "data": {
            "text/plain": [
              "<bound method NDFrame.head of                                   bus_name  ... tollfree\n",
              "0      jang kang korean chinese restaurant  ...      NaN\n",
              "1                       sheridan nurseries  ...      NaN\n",
              "2                      shinhan bank canada  ...      NaN\n",
              "3                             shell canada  ...      NaN\n",
              "4         cooksville hair and beauty salon  ...      NaN\n",
              "...                                    ...  ...      ...\n",
              "16339                      dentistry on 10  ...      NaN\n",
              "16340   stop the clock naturopathic clinic  ...      NaN\n",
              "16341          beauleigh retail consulting  ...      NaN\n",
              "16342         le niagara commodities corp.  ...      NaN\n",
              "16343                      fritz marketing  ...      NaN\n",
              "\n",
              "[16344 rows x 13 columns]>"
            ]
          },
          "metadata": {
            "tags": []
          },
          "execution_count": 5
        }
      ]
    },
    {
      "cell_type": "code",
      "metadata": {
        "id": "AColiWLLEYfk",
        "colab_type": "code",
        "outputId": "0036e3bf-d573-4c96-ea5c-cad2646e0edc",
        "colab": {
          "base_uri": "https://localhost:8080/",
          "height": 86
        }
      },
      "source": [
        "df.columns"
      ],
      "execution_count": 0,
      "outputs": [
        {
          "output_type": "execute_result",
          "data": {
            "text/plain": [
              "Index(['bus_name', 'emp_range', 'naics_6', 'naics_desc', 'street_no',\n",
              "       'street_name', 'postcode', 'unit', 'phone', 'fax', 'email', 'website',\n",
              "       'tollfree'],\n",
              "      dtype='object')"
            ]
          },
          "metadata": {
            "tags": []
          },
          "execution_count": 6
        }
      ]
    },
    {
      "cell_type": "code",
      "metadata": {
        "id": "vcI0ZS8hEdNo",
        "colab_type": "code",
        "colab": {}
      },
      "source": [
        "df_selected = df[[\"bus_name\",\"naics_6\"]]"
      ],
      "execution_count": 0,
      "outputs": []
    },
    {
      "cell_type": "code",
      "metadata": {
        "id": "JEPWl6VlEpBX",
        "colab_type": "code",
        "colab": {}
      },
      "source": [
        "X, Y = df_selected.bus_name, df_selected.naics_6.astype(str)"
      ],
      "execution_count": 0,
      "outputs": []
    },
    {
      "cell_type": "code",
      "metadata": {
        "id": "DEgtqcNJF1pK",
        "colab_type": "code",
        "colab": {}
      },
      "source": [
        "features = X.to_list()"
      ],
      "execution_count": 0,
      "outputs": []
    },
    {
      "cell_type": "markdown",
      "metadata": {
        "id": "hNE6ZAxAdzqu",
        "colab_type": "text"
      },
      "source": [
        "## Lemmatizing the data\n",
        "\n",
        "In this section we used Textblob mocule to lemmatize the input text."
      ]
    },
    {
      "cell_type": "code",
      "metadata": {
        "id": "FiFiR5H0FokV",
        "colab_type": "code",
        "outputId": "ec5bba51-5c64-48a2-889d-e1a981ce888a",
        "colab": {
          "base_uri": "https://localhost:8080/",
          "height": 34
        }
      },
      "source": [
        "def split_into_lemmas(features):\n",
        "    # features = str.encode(features, 'utf8', errors='replace').lower()\n",
        "    words = TextBlob(features).words \n",
        "    return [word.lemma for word in words]\n",
        "\n",
        "bow = CountVectorizer(analyzer=split_into_lemmas).fit(features)\n",
        "print (\"Length of Vocabulary : \"+str(len(bow.vocabulary_)))"
      ],
      "execution_count": 0,
      "outputs": [
        {
          "output_type": "stream",
          "text": [
            "Length of Vocabulary : 11887\n"
          ],
          "name": "stdout"
        }
      ]
    },
    {
      "cell_type": "code",
      "metadata": {
        "id": "scabhrMJHBAC",
        "colab_type": "code",
        "colab": {}
      },
      "source": [
        ""
      ],
      "execution_count": 0,
      "outputs": []
    },
    {
      "cell_type": "markdown",
      "metadata": {
        "id": "rmgzWZdhFokf",
        "colab_type": "text"
      },
      "source": [
        "### Term Frequency times inverse document frequency (TF-IDF): \n",
        "\n",
        "TF-IDF used to reduce the weight of most common words such as \"the\", \"a\", \"an\"."
      ]
    },
    {
      "cell_type": "code",
      "metadata": {
        "id": "4WLrqm3_Fokh",
        "colab_type": "code",
        "outputId": "3b9f9168-285a-4947-c19c-ee8f16efccb9",
        "colab": {
          "base_uri": "https://localhost:8080/",
          "height": 34
        }
      },
      "source": [
        "bow_list = bow.transform(features)\n",
        "\n",
        "tfidf_transformer = TfidfTransformer().fit(bow_list)\n",
        "\n",
        "bow_tfidf = tfidf_transformer.transform(bow_list)\n",
        "print (\"Dimension of the Document-Term matrix : \"+str(bow_tfidf.shape))"
      ],
      "execution_count": 0,
      "outputs": [
        {
          "output_type": "stream",
          "text": [
            "Dimension of the Document-Term matrix : (16344, 11887)\n"
          ],
          "name": "stdout"
        }
      ]
    },
    {
      "cell_type": "markdown",
      "metadata": {
        "id": "pvFQ8PsrMCVG",
        "colab_type": "text"
      },
      "source": [
        "## Machine Learning\n",
        "\n",
        "SkLearn module used to create the model and predict the labels based on the features."
      ]
    },
    {
      "cell_type": "code",
      "metadata": {
        "id": "oYF-X6QxFokw",
        "colab_type": "code",
        "outputId": "47372f55-77cc-4101-b7d6-224a6b2f2916",
        "colab": {
          "base_uri": "https://localhost:8080/",
          "height": 52
        }
      },
      "source": [
        "train, test, label_train, label_test = train_test_split(X,Y, test_size=0.1)\n",
        "\n",
        "print (\"Number of samples in Training Dataset : \"+str(len(train)))\n",
        "print (\"Number of samples in Testing Dataset : \"+str(len(test)))\n"
      ],
      "execution_count": 0,
      "outputs": [
        {
          "output_type": "stream",
          "text": [
            "Number of samples in Training Dataset : 14709\n",
            "Number of samples in Testing Dataset : 1635\n"
          ],
          "name": "stdout"
        }
      ]
    },
    {
      "cell_type": "code",
      "metadata": {
        "id": "CQrgqVr8LaY8",
        "colab_type": "code",
        "outputId": "39c51f91-1aef-46f9-af44-d4b8563dece7",
        "colab": {
          "base_uri": "https://localhost:8080/",
          "height": 225
        }
      },
      "source": [
        "train"
      ],
      "execution_count": 0,
      "outputs": [
        {
          "output_type": "execute_result",
          "data": {
            "text/plain": [
              "11365                                     skyway jacks\n",
              "11250    options mississauga print and office services\n",
              "12435                      vista heights public school\n",
              "9874                      wood studio of matthew leite\n",
              "7198                      t s t truckload express inc.\n",
              "                             ...                      \n",
              "874                                             pho le\n",
              "11542                                      canada post\n",
              "16292        b i logistics services inc. ( b i l s i )\n",
              "8053                               navair technologies\n",
              "9052                           royal montessori school\n",
              "Name: bus_name, Length: 14709, dtype: object"
            ]
          },
          "metadata": {
            "tags": []
          },
          "execution_count": 69
        }
      ]
    },
    {
      "cell_type": "markdown",
      "metadata": {
        "id": "xDSCWiNuT9kQ",
        "colab_type": "text"
      },
      "source": [
        "SGD"
      ]
    },
    {
      "cell_type": "code",
      "metadata": {
        "id": "n6u4NRJuT_Rv",
        "colab_type": "code",
        "outputId": "a48e6c3c-ffd6-4a39-e668-a00fa149ece6",
        "colab": {
          "base_uri": "https://localhost:8080/",
          "height": 89
        }
      },
      "source": [
        "from sklearn.linear_model import SGDClassifier\n",
        "\n",
        "pipeline = Pipeline([('bow', CountVectorizer(analyzer=split_into_lemmas)),\n",
        "                      ('tfidf', TfidfTransformer()),\n",
        "                      ('classifier', SGDClassifier(loss='hinge', penalty='l2', alpha=1e-3, max_iter=5, random_state=42))])\n",
        "\n",
        "pipeline = pipeline.fit(train, label_train)\n",
        "\n",
        "predicted = pipeline.predict(test)\n",
        "\n",
        "print (\"Accuracy Score SGDClassifier : \"+str(accuracy_score(label_test, predicted)))"
      ],
      "execution_count": 0,
      "outputs": [
        {
          "output_type": "stream",
          "text": [
            "/usr/local/lib/python3.6/dist-packages/sklearn/linear_model/_stochastic_gradient.py:557: ConvergenceWarning: Maximum number of iteration reached before convergence. Consider increasing max_iter to improve the fit.\n",
            "  ConvergenceWarning)\n"
          ],
          "name": "stderr"
        },
        {
          "output_type": "stream",
          "text": [
            "Accuracy Score SGDClassifier : 0.41162079510703364\n"
          ],
          "name": "stdout"
        }
      ]
    },
    {
      "cell_type": "code",
      "metadata": {
        "id": "9YwoBwRFUBSP",
        "colab_type": "code",
        "colab": {}
      },
      "source": [
        "# from __future__ import print_function\n",
        "\n",
        "# print (\"Actual Result : \\n\")\n",
        "# for i,j in enumerate(label_test):\n",
        "#     print (str(j)+\", \", end='')\n",
        "\n",
        "# print (\"\\n\\n\")\n",
        "\n",
        "# print (\"Predicted Result : \\n\")\n",
        "# print (str(predicted) + \"\\n\\n\")\n"
      ],
      "execution_count": 0,
      "outputs": []
    },
    {
      "cell_type": "code",
      "metadata": {
        "id": "Q1Vsqiv5X83U",
        "colab_type": "code",
        "colab": {}
      },
      "source": [
        "pred2 = pipeline.predict(['friend corns'])"
      ],
      "execution_count": 0,
      "outputs": []
    },
    {
      "cell_type": "code",
      "metadata": {
        "id": "W9jM3qvnZsr3",
        "colab_type": "code",
        "outputId": "afd2d51f-d202-4e70-a335-c437549e8408",
        "colab": {
          "base_uri": "https://localhost:8080/",
          "height": 34
        }
      },
      "source": [
        "pred2"
      ],
      "execution_count": 0,
      "outputs": [
        {
          "output_type": "execute_result",
          "data": {
            "text/plain": [
              "array(['561310.0'], dtype='<U8')"
            ]
          },
          "metadata": {
            "tags": []
          },
          "execution_count": 86
        }
      ]
    },
    {
      "cell_type": "markdown",
      "metadata": {
        "id": "rHkPp6_0ec4m",
        "colab_type": "text"
      },
      "source": [
        "## Exporting the model\n",
        "Model exported as a Pickle fime for future use."
      ]
    },
    {
      "cell_type": "code",
      "metadata": {
        "id": "n1lpbqkrZx1D",
        "colab_type": "code",
        "colab": {}
      },
      "source": [
        "import pickle\n",
        "with open('industry_by_company_name', 'wb') as picklefile:\n",
        "    pickle.dump(pipeline,picklefile)"
      ],
      "execution_count": 0,
      "outputs": []
    },
    {
      "cell_type": "code",
      "metadata": {
        "id": "B-qsB7I0bCfs",
        "colab_type": "code",
        "colab": {}
      },
      "source": [
        ""
      ],
      "execution_count": 0,
      "outputs": []
    }
  ]
}